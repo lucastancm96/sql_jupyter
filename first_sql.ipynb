{
 "metadata": {
  "language_info": {
   "codemirror_mode": {
    "name": "ipython",
    "version": 3
   },
   "file_extension": ".py",
   "mimetype": "text/x-python",
   "name": "python",
   "nbconvert_exporter": "python",
   "pygments_lexer": "ipython3",
   "version": "3.7.6-final"
  },
  "orig_nbformat": 2,
  "kernelspec": {
   "name": "python_defaultSpec_1600182993958",
   "display_name": "Python 3.7.6 64-bit ('base': conda)"
  }
 },
 "nbformat": 4,
 "nbformat_minor": 2,
 "cells": [
  {
   "cell_type": "code",
   "execution_count": 158,
   "metadata": {},
   "outputs": [],
   "source": [
    "import sqlite3\n",
    "import pandas as pd"
   ]
  },
  {
   "cell_type": "code",
   "execution_count": 159,
   "metadata": {
    "tags": []
   },
   "outputs": [],
   "source": [
    "%reload_ext sql"
   ]
  },
  {
   "source": [
    "### Connect SQLite"
   ],
   "cell_type": "markdown",
   "metadata": {}
  },
  {
   "cell_type": "code",
   "execution_count": 171,
   "metadata": {
    "tags": []
   },
   "outputs": [],
   "source": [
    "%sql sqlite:///db/sfbike.sqlite"
   ]
  },
  {
   "cell_type": "code",
   "execution_count": 161,
   "metadata": {
    "tags": []
   },
   "outputs": [],
   "source": [
    "# Check the table in this database"
   ]
  },
  {
   "cell_type": "code",
   "execution_count": 172,
   "metadata": {
    "tags": []
   },
   "outputs": [
    {
     "output_type": "stream",
     "name": "stdout",
     "text": "sqlite:///../factbook.db\n   sqlite:///../trackdb.sqlite\n   sqlite:///./factbook.db\n   sqlite:////Users/Ming/Documents/GitHub/sql_jupyter/db/factbook.db\n   sqlite:////Users/Ming/Documents/GitHub/sql_jupyter/db/sfbike.db\n   sqlite:////Users/Ming/Documents/GitHub/sql_jupyter/db/trackdb.sqlite\n   sqlite:///db/factbook.db\n * sqlite:///db/sfbike.sqlite\n   sqlite:///db/trackdb.sqlite\n   sqlite:///factbook.db\n   sqlite:///northwindexbackup.sql\n   sqlite:///trackdb.sqlite\n   sqlite:///trackdb.sqlite3\nDone.\n"
    },
    {
     "output_type": "execute_result",
     "data": {
      "text/plain": "[('table', 'station', 'station', 2, 'CREATE TABLE station (\\n    id INTEGER PRIMARY KEY,\\n    name TEXT,\\n    lat NUMERIC,\\n    long NUMERIC,\\n    dock_count INTEGER,\\n    city TEXT,\\n    installation_date TEXT)'),\n ('table', 'status', 'status', 3, 'CREATE TABLE status (\\n    station_id INTEGER,\\n    bikes_available INTEGER,\\n    docks_available INTEGER,\\n    time TEXT)'),\n ('table', 'trip', 'trip', 4, 'CREATE TABLE trip (\\n    id INTEGER PRIMARY KEY,\\n    duration INTEGER,\\n    start_date TEXT,\\n    start_station_name TEXT, -- this should be removed ... (59 characters truncated) ... d_station_name TEXT, -- this should be removed\\n    end_station_id INTEGER,\\n    bike_id INTEGER,\\n    subscription_type TEXT,\\n    zip_code INTEGER)'),\n ('table', 'weather', 'weather', 5, 'CREATE TABLE weather (\\n    date TEXT,\\n    max_temperature_f INTEGER,\\n    mean_temperature_f INTEGER,\\n    min_temperature_f INTEGER,\\n    max_dew_ ... (482 characters truncated) ... eed_mph INTEGER,\\n    precipitation_inches INTEGER,\\n    cloud_cover INTEGER,\\n    events TEXT,\\n    wind_dir_degrees INTEGER,\\n    zip_code INTEGER)')]",
      "text/html": "<table>\n    <tr>\n        <th>type</th>\n        <th>name</th>\n        <th>tbl_name</th>\n        <th>rootpage</th>\n        <th>sql</th>\n    </tr>\n    <tr>\n        <td>table</td>\n        <td>station</td>\n        <td>station</td>\n        <td>2</td>\n        <td>CREATE TABLE station (<br>    id INTEGER PRIMARY KEY,<br>    name TEXT,<br>    lat NUMERIC,<br>    long NUMERIC,<br>    dock_count INTEGER,<br>    city TEXT,<br>    installation_date TEXT)</td>\n    </tr>\n    <tr>\n        <td>table</td>\n        <td>status</td>\n        <td>status</td>\n        <td>3</td>\n        <td>CREATE TABLE status (<br>    station_id INTEGER,<br>    bikes_available INTEGER,<br>    docks_available INTEGER,<br>    time TEXT)</td>\n    </tr>\n    <tr>\n        <td>table</td>\n        <td>trip</td>\n        <td>trip</td>\n        <td>4</td>\n        <td>CREATE TABLE trip (<br>    id INTEGER PRIMARY KEY,<br>    duration INTEGER,<br>    start_date TEXT,<br>    start_station_name TEXT, -- this should be removed<br>    start_station_id INTEGER,<br>    end_date TEXT,<br>    end_station_name TEXT, -- this should be removed<br>    end_station_id INTEGER,<br>    bike_id INTEGER,<br>    subscription_type TEXT,<br>    zip_code INTEGER)</td>\n    </tr>\n    <tr>\n        <td>table</td>\n        <td>weather</td>\n        <td>weather</td>\n        <td>5</td>\n        <td>CREATE TABLE weather (<br>    date TEXT,<br>    max_temperature_f INTEGER,<br>    mean_temperature_f INTEGER,<br>    min_temperature_f INTEGER,<br>    max_dew_point_f INTEGER,<br>    mean_dew_point_f INTEGER,<br>    min_dew_point_f INTEGER,<br>    max_humidity INTEGER,<br>    mean_humidity INTEGER,<br>    min_humidity INTEGER,<br>    max_sea_level_pressure_inches NUMERIC,<br>    mean_sea_level_pressure_inches NUMERIC,<br>    min_sea_level_pressure_inches NUMERIC,<br>    max_visibility_miles INTEGER,<br>    mean_visibility_miles INTEGER,<br>    min_visibility_miles INTEGER,<br>    max_wind_Speed_mph INTEGER,<br>    mean_wind_speed_mph INTEGER,<br>    max_gust_speed_mph INTEGER,<br>    precipitation_inches INTEGER,<br>    cloud_cover INTEGER,<br>    events TEXT,<br>    wind_dir_degrees INTEGER,<br>    zip_code INTEGER)</td>\n    </tr>\n</table>"
     },
     "metadata": {},
     "execution_count": 172
    }
   ],
   "source": [
    "%%sql\n",
    "SELECT * \n",
    "FROM sqlite_master \n",
    "WHERE type='table'"
   ]
  },
  {
   "source": [
    "**-----Another way to execute sql using pandas-----**"
   ],
   "cell_type": "markdown",
   "metadata": {}
  },
  {
   "cell_type": "code",
   "execution_count": 163,
   "metadata": {},
   "outputs": [],
   "source": [
    "# sql_connect = sqlite3.connect('../db/sfbike.sqlite')\n",
    "# cursor = sql_connect.cursor()"
   ]
  },
  {
   "cell_type": "code",
   "execution_count": 164,
   "metadata": {},
   "outputs": [],
   "source": [
    "# query = '''SELECT * FROM Album'''\n",
    "# df = pd.read_sql_query(query, sql_connect)"
   ]
  },
  {
   "cell_type": "code",
   "execution_count": null,
   "metadata": {},
   "outputs": [],
   "source": []
  }
 ]
}