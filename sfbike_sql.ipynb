{
 "metadata": {
  "language_info": {
   "codemirror_mode": {
    "name": "ipython",
    "version": 3
   },
   "file_extension": ".py",
   "mimetype": "text/x-python",
   "name": "python",
   "nbconvert_exporter": "python",
   "pygments_lexer": "ipython3",
   "version": "3.7.6-final"
  },
  "orig_nbformat": 2,
  "kernelspec": {
   "name": "python_defaultSpec_1600844063709",
   "display_name": "Python 3.7.6 64-bit ('base': conda)"
  }
 },
 "nbformat": 4,
 "nbformat_minor": 2,
 "cells": [
  {
   "source": [
    "## Import Libraries"
   ],
   "cell_type": "markdown",
   "metadata": {}
  },
  {
   "cell_type": "code",
   "execution_count": 79,
   "metadata": {},
   "outputs": [],
   "source": [
    "import sqlite3\n",
    "import pandas as pd\n",
    "import matplotlib.pyplot as plt"
   ]
  },
  {
   "source": [
    "## Connect SQLite\n",
    "There are **two ways** to connect SQLite and run queries\n",
    "* Connect via SQL Magic extension\n",
    "* Connect via Python sqlite3 function <br/>\n",
    "\n",
    "NOTE: The database `sfbike.sqlite` is not available in this repo because it is too big. To download the database please visit: https://www.kaggle.com/benhamner/sf-bay-area-bike-share"
   ],
   "cell_type": "markdown",
   "metadata": {}
  },
  {
   "source": [
    "### SQL Magic exension"
   ],
   "cell_type": "markdown",
   "metadata": {}
  },
  {
   "cell_type": "code",
   "execution_count": 2,
   "metadata": {
    "tags": []
   },
   "outputs": [],
   "source": [
    "%load_ext sql"
   ]
  },
  {
   "cell_type": "code",
   "execution_count": 11,
   "metadata": {
    "tags": []
   },
   "outputs": [],
   "source": [
    "%sql sqlite:///db/sfbike.sqlite"
   ]
  },
  {
   "source": [
    "Check the available table in the database<br/>\n",
    "<em>Cannot insert command in the cell below (syntax error will occur)</em>"
   ],
   "cell_type": "markdown",
   "metadata": {}
  },
  {
   "cell_type": "code",
   "execution_count": 16,
   "metadata": {
    "tags": []
   },
   "outputs": [
    {
     "output_type": "stream",
     "name": "stdout",
     "text": "* sqlite:///db/sfbike.sqlite\n   sqlite:///db/trackdb.sqlite\nDone.\n"
    },
    {
     "output_type": "execute_result",
     "data": {
      "text/plain": "[('table', 'station', 'station', 2, 'CREATE TABLE station (\\n    id INTEGER PRIMARY KEY,\\n    name TEXT,\\n    lat NUMERIC,\\n    long NUMERIC,\\n    dock_count INTEGER,\\n    city TEXT,\\n    installation_date TEXT)'),\n ('table', 'status', 'status', 3, 'CREATE TABLE status (\\n    station_id INTEGER,\\n    bikes_available INTEGER,\\n    docks_available INTEGER,\\n    time TEXT)'),\n ('table', 'trip', 'trip', 4, 'CREATE TABLE trip (\\n    id INTEGER PRIMARY KEY,\\n    duration INTEGER,\\n    start_date TEXT,\\n    start_station_name TEXT, -- this should be removed ... (59 characters truncated) ... d_station_name TEXT, -- this should be removed\\n    end_station_id INTEGER,\\n    bike_id INTEGER,\\n    subscription_type TEXT,\\n    zip_code INTEGER)'),\n ('table', 'weather', 'weather', 5, 'CREATE TABLE weather (\\n    date TEXT,\\n    max_temperature_f INTEGER,\\n    mean_temperature_f INTEGER,\\n    min_temperature_f INTEGER,\\n    max_dew_ ... (482 characters truncated) ... eed_mph INTEGER,\\n    precipitation_inches INTEGER,\\n    cloud_cover INTEGER,\\n    events TEXT,\\n    wind_dir_degrees INTEGER,\\n    zip_code INTEGER)')]",
      "text/html": "<table>\n    <tr>\n        <th>type</th>\n        <th>name</th>\n        <th>tbl_name</th>\n        <th>rootpage</th>\n        <th>sql</th>\n    </tr>\n    <tr>\n        <td>table</td>\n        <td>station</td>\n        <td>station</td>\n        <td>2</td>\n        <td>CREATE TABLE station (<br>    id INTEGER PRIMARY KEY,<br>    name TEXT,<br>    lat NUMERIC,<br>    long NUMERIC,<br>    dock_count INTEGER,<br>    city TEXT,<br>    installation_date TEXT)</td>\n    </tr>\n    <tr>\n        <td>table</td>\n        <td>status</td>\n        <td>status</td>\n        <td>3</td>\n        <td>CREATE TABLE status (<br>    station_id INTEGER,<br>    bikes_available INTEGER,<br>    docks_available INTEGER,<br>    time TEXT)</td>\n    </tr>\n    <tr>\n        <td>table</td>\n        <td>trip</td>\n        <td>trip</td>\n        <td>4</td>\n        <td>CREATE TABLE trip (<br>    id INTEGER PRIMARY KEY,<br>    duration INTEGER,<br>    start_date TEXT,<br>    start_station_name TEXT, -- this should be removed<br>    start_station_id INTEGER,<br>    end_date TEXT,<br>    end_station_name TEXT, -- this should be removed<br>    end_station_id INTEGER,<br>    bike_id INTEGER,<br>    subscription_type TEXT,<br>    zip_code INTEGER)</td>\n    </tr>\n    <tr>\n        <td>table</td>\n        <td>weather</td>\n        <td>weather</td>\n        <td>5</td>\n        <td>CREATE TABLE weather (<br>    date TEXT,<br>    max_temperature_f INTEGER,<br>    mean_temperature_f INTEGER,<br>    min_temperature_f INTEGER,<br>    max_dew_point_f INTEGER,<br>    mean_dew_point_f INTEGER,<br>    min_dew_point_f INTEGER,<br>    max_humidity INTEGER,<br>    mean_humidity INTEGER,<br>    min_humidity INTEGER,<br>    max_sea_level_pressure_inches NUMERIC,<br>    mean_sea_level_pressure_inches NUMERIC,<br>    min_sea_level_pressure_inches NUMERIC,<br>    max_visibility_miles INTEGER,<br>    mean_visibility_miles INTEGER,<br>    min_visibility_miles INTEGER,<br>    max_wind_Speed_mph INTEGER,<br>    mean_wind_speed_mph INTEGER,<br>    max_gust_speed_mph INTEGER,<br>    precipitation_inches INTEGER,<br>    cloud_cover INTEGER,<br>    events TEXT,<br>    wind_dir_degrees INTEGER,<br>    zip_code INTEGER)</td>\n    </tr>\n</table>"
     },
     "metadata": {},
     "execution_count": 16
    }
   ],
   "source": [
    "%%sql \n",
    "SELECT * FROM sqlite_master WHERE type='table'"
   ]
  },
  {
   "source": [
    "### SQLite3 function"
   ],
   "cell_type": "markdown",
   "metadata": {}
  },
  {
   "cell_type": "code",
   "execution_count": 19,
   "metadata": {},
   "outputs": [],
   "source": [
    "db = sqlite3.connect('db/sfbike.sqlite')\n",
    "\n",
    "def run_query(query):\n",
    "    return pd.read_sql_query(query, db)"
   ]
  },
  {
   "cell_type": "code",
   "execution_count": 26,
   "metadata": {},
   "outputs": [
    {
     "output_type": "execute_result",
     "data": {
      "text/plain": "    type     name tbl_name  rootpage  \\\n0  table  station  station         2   \n1  table   status   status         3   \n2  table     trip     trip         4   \n3  table  weather  weather         5   \n\n                                                 sql  \n0  CREATE TABLE station (\\n    id INTEGER PRIMARY...  \n1  CREATE TABLE status (\\n    station_id INTEGER,...  \n2  CREATE TABLE trip (\\n    id INTEGER PRIMARY KE...  \n3  CREATE TABLE weather (\\n    date TEXT,\\n    ma...  ",
      "text/html": "<div>\n<style scoped>\n    .dataframe tbody tr th:only-of-type {\n        vertical-align: middle;\n    }\n\n    .dataframe tbody tr th {\n        vertical-align: top;\n    }\n\n    .dataframe thead th {\n        text-align: right;\n    }\n</style>\n<table border=\"1\" class=\"dataframe\">\n  <thead>\n    <tr style=\"text-align: right;\">\n      <th></th>\n      <th>type</th>\n      <th>name</th>\n      <th>tbl_name</th>\n      <th>rootpage</th>\n      <th>sql</th>\n    </tr>\n  </thead>\n  <tbody>\n    <tr>\n      <th>0</th>\n      <td>table</td>\n      <td>station</td>\n      <td>station</td>\n      <td>2</td>\n      <td>CREATE TABLE station (\\n    id INTEGER PRIMARY...</td>\n    </tr>\n    <tr>\n      <th>1</th>\n      <td>table</td>\n      <td>status</td>\n      <td>status</td>\n      <td>3</td>\n      <td>CREATE TABLE status (\\n    station_id INTEGER,...</td>\n    </tr>\n    <tr>\n      <th>2</th>\n      <td>table</td>\n      <td>trip</td>\n      <td>trip</td>\n      <td>4</td>\n      <td>CREATE TABLE trip (\\n    id INTEGER PRIMARY KE...</td>\n    </tr>\n    <tr>\n      <th>3</th>\n      <td>table</td>\n      <td>weather</td>\n      <td>weather</td>\n      <td>5</td>\n      <td>CREATE TABLE weather (\\n    date TEXT,\\n    ma...</td>\n    </tr>\n  </tbody>\n</table>\n</div>"
     },
     "metadata": {},
     "execution_count": 26
    }
   ],
   "source": [
    "query ='SELECT * FROM sqlite_master WHERE type=\"table\"'\n",
    "run_query(query)"
   ]
  },
  {
   "source": [
    "The result shows there are four tables in this database which are `station`, `status`, `trip`, and `weather`.<br/>\n",
    "Some simple analysis will be performed through SQL to answer the following questions: <br/>\n",
    "1. What was the trip with the longest duration? <br/>\n",
    "2. Do unregistered users take longer or shorter trips? <br/>\n",
    "3. Which stations are the most popular? <br/>\n",
    "4. Which routes are the most popular?  <br/>"
   ],
   "cell_type": "markdown",
   "metadata": {}
  },
  {
   "source": [
    "## Explore Tables\n",
    "From now onwards we will use `SQLite3` function as the output is more simple to look at."
   ],
   "cell_type": "markdown",
   "metadata": {}
  },
  {
   "cell_type": "code",
   "execution_count": 32,
   "metadata": {
    "tags": []
   },
   "outputs": [
    {
     "output_type": "execute_result",
     "data": {
      "text/plain": "      name\n0  station\n1   status\n2     trip\n3  weather",
      "text/html": "<div>\n<style scoped>\n    .dataframe tbody tr th:only-of-type {\n        vertical-align: middle;\n    }\n\n    .dataframe tbody tr th {\n        vertical-align: top;\n    }\n\n    .dataframe thead th {\n        text-align: right;\n    }\n</style>\n<table border=\"1\" class=\"dataframe\">\n  <thead>\n    <tr style=\"text-align: right;\">\n      <th></th>\n      <th>name</th>\n    </tr>\n  </thead>\n  <tbody>\n    <tr>\n      <th>0</th>\n      <td>station</td>\n    </tr>\n    <tr>\n      <th>1</th>\n      <td>status</td>\n    </tr>\n    <tr>\n      <th>2</th>\n      <td>trip</td>\n    </tr>\n    <tr>\n      <th>3</th>\n      <td>weather</td>\n    </tr>\n  </tbody>\n</table>\n</div>"
     },
     "metadata": {},
     "execution_count": 32
    }
   ],
   "source": [
    "# Check the table to work with\n",
    "query = 'SELECT name FROM sqlite_master'\n",
    "run_query(query)"
   ]
  },
  {
   "cell_type": "code",
   "execution_count": 34,
   "metadata": {},
   "outputs": [
    {
     "output_type": "execute_result",
     "data": {
      "text/plain": "   id                               name        lat        long  dock_count  \\\n0   2  San Jose Diridon Caltrain Station  37.329732 -121.901782          27   \n1   3              San Jose Civic Center  37.330698 -121.888979          15   \n2   4             Santa Clara at Almaden  37.333988 -121.894902          11   \n3   5                   Adobe on Almaden  37.331415 -121.893200          19   \n4   6                   San Pedro Square  37.336721 -121.894074          15   \n\n       city installation_date  \n0  San Jose          8/6/2013  \n1  San Jose          8/5/2013  \n2  San Jose          8/6/2013  \n3  San Jose          8/5/2013  \n4  San Jose          8/7/2013  ",
      "text/html": "<div>\n<style scoped>\n    .dataframe tbody tr th:only-of-type {\n        vertical-align: middle;\n    }\n\n    .dataframe tbody tr th {\n        vertical-align: top;\n    }\n\n    .dataframe thead th {\n        text-align: right;\n    }\n</style>\n<table border=\"1\" class=\"dataframe\">\n  <thead>\n    <tr style=\"text-align: right;\">\n      <th></th>\n      <th>id</th>\n      <th>name</th>\n      <th>lat</th>\n      <th>long</th>\n      <th>dock_count</th>\n      <th>city</th>\n      <th>installation_date</th>\n    </tr>\n  </thead>\n  <tbody>\n    <tr>\n      <th>0</th>\n      <td>2</td>\n      <td>San Jose Diridon Caltrain Station</td>\n      <td>37.329732</td>\n      <td>-121.901782</td>\n      <td>27</td>\n      <td>San Jose</td>\n      <td>8/6/2013</td>\n    </tr>\n    <tr>\n      <th>1</th>\n      <td>3</td>\n      <td>San Jose Civic Center</td>\n      <td>37.330698</td>\n      <td>-121.888979</td>\n      <td>15</td>\n      <td>San Jose</td>\n      <td>8/5/2013</td>\n    </tr>\n    <tr>\n      <th>2</th>\n      <td>4</td>\n      <td>Santa Clara at Almaden</td>\n      <td>37.333988</td>\n      <td>-121.894902</td>\n      <td>11</td>\n      <td>San Jose</td>\n      <td>8/6/2013</td>\n    </tr>\n    <tr>\n      <th>3</th>\n      <td>5</td>\n      <td>Adobe on Almaden</td>\n      <td>37.331415</td>\n      <td>-121.893200</td>\n      <td>19</td>\n      <td>San Jose</td>\n      <td>8/5/2013</td>\n    </tr>\n    <tr>\n      <th>4</th>\n      <td>6</td>\n      <td>San Pedro Square</td>\n      <td>37.336721</td>\n      <td>-121.894074</td>\n      <td>15</td>\n      <td>San Jose</td>\n      <td>8/7/2013</td>\n    </tr>\n  </tbody>\n</table>\n</div>"
     },
     "metadata": {},
     "execution_count": 34
    }
   ],
   "source": [
    "# Check station table\n",
    "query = 'SELECT * FROM station LIMIT 5'\n",
    "run_query(query)"
   ]
  },
  {
   "cell_type": "code",
   "execution_count": 35,
   "metadata": {},
   "outputs": [
    {
     "output_type": "execute_result",
     "data": {
      "text/plain": "   station_id  bikes_available  docks_available                 time\n0           2                2               25  2013/08/29 12:06:01\n1           2                2               25  2013/08/29 12:07:01\n2           2                2               25  2013/08/29 12:08:01\n3           2                2               25  2013/08/29 12:09:01\n4           2                2               25  2013/08/29 12:10:01",
      "text/html": "<div>\n<style scoped>\n    .dataframe tbody tr th:only-of-type {\n        vertical-align: middle;\n    }\n\n    .dataframe tbody tr th {\n        vertical-align: top;\n    }\n\n    .dataframe thead th {\n        text-align: right;\n    }\n</style>\n<table border=\"1\" class=\"dataframe\">\n  <thead>\n    <tr style=\"text-align: right;\">\n      <th></th>\n      <th>station_id</th>\n      <th>bikes_available</th>\n      <th>docks_available</th>\n      <th>time</th>\n    </tr>\n  </thead>\n  <tbody>\n    <tr>\n      <th>0</th>\n      <td>2</td>\n      <td>2</td>\n      <td>25</td>\n      <td>2013/08/29 12:06:01</td>\n    </tr>\n    <tr>\n      <th>1</th>\n      <td>2</td>\n      <td>2</td>\n      <td>25</td>\n      <td>2013/08/29 12:07:01</td>\n    </tr>\n    <tr>\n      <th>2</th>\n      <td>2</td>\n      <td>2</td>\n      <td>25</td>\n      <td>2013/08/29 12:08:01</td>\n    </tr>\n    <tr>\n      <th>3</th>\n      <td>2</td>\n      <td>2</td>\n      <td>25</td>\n      <td>2013/08/29 12:09:01</td>\n    </tr>\n    <tr>\n      <th>4</th>\n      <td>2</td>\n      <td>2</td>\n      <td>25</td>\n      <td>2013/08/29 12:10:01</td>\n    </tr>\n  </tbody>\n</table>\n</div>"
     },
     "metadata": {},
     "execution_count": 35
    }
   ],
   "source": [
    "# Check status table\n",
    "query = 'SELECT * FROM status LIMIT 5'\n",
    "run_query(query)"
   ]
  },
  {
   "cell_type": "code",
   "execution_count": 36,
   "metadata": {},
   "outputs": [
    {
     "output_type": "execute_result",
     "data": {
      "text/plain": "     id  duration      start_date        start_station_name  start_station_id  \\\n0  4069       174  8/29/2013 9:08         2nd at South Park                64   \n1  4073      1067  8/29/2013 9:24  South Van Ness at Market                66   \n2  4074      1131  8/29/2013 9:24  South Van Ness at Market                66   \n3  4075      1117  8/29/2013 9:24  South Van Ness at Market                66   \n4  4076      1118  8/29/2013 9:25  South Van Ness at Market                66   \n\n         end_date                         end_station_name  end_station_id  \\\n0  8/29/2013 9:11                        2nd at South Park              64   \n1  8/29/2013 9:42  San Francisco Caltrain 2 (330 Townsend)              69   \n2  8/29/2013 9:43  San Francisco Caltrain 2 (330 Townsend)              69   \n3  8/29/2013 9:43  San Francisco Caltrain 2 (330 Townsend)              69   \n4  8/29/2013 9:43  San Francisco Caltrain 2 (330 Townsend)              69   \n\n   bike_id subscription_type  zip_code  \n0      288        Subscriber     94114  \n1      321        Subscriber     94703  \n2      317        Subscriber     94115  \n3      316        Subscriber     94122  \n4      322        Subscriber     94597  ",
      "text/html": "<div>\n<style scoped>\n    .dataframe tbody tr th:only-of-type {\n        vertical-align: middle;\n    }\n\n    .dataframe tbody tr th {\n        vertical-align: top;\n    }\n\n    .dataframe thead th {\n        text-align: right;\n    }\n</style>\n<table border=\"1\" class=\"dataframe\">\n  <thead>\n    <tr style=\"text-align: right;\">\n      <th></th>\n      <th>id</th>\n      <th>duration</th>\n      <th>start_date</th>\n      <th>start_station_name</th>\n      <th>start_station_id</th>\n      <th>end_date</th>\n      <th>end_station_name</th>\n      <th>end_station_id</th>\n      <th>bike_id</th>\n      <th>subscription_type</th>\n      <th>zip_code</th>\n    </tr>\n  </thead>\n  <tbody>\n    <tr>\n      <th>0</th>\n      <td>4069</td>\n      <td>174</td>\n      <td>8/29/2013 9:08</td>\n      <td>2nd at South Park</td>\n      <td>64</td>\n      <td>8/29/2013 9:11</td>\n      <td>2nd at South Park</td>\n      <td>64</td>\n      <td>288</td>\n      <td>Subscriber</td>\n      <td>94114</td>\n    </tr>\n    <tr>\n      <th>1</th>\n      <td>4073</td>\n      <td>1067</td>\n      <td>8/29/2013 9:24</td>\n      <td>South Van Ness at Market</td>\n      <td>66</td>\n      <td>8/29/2013 9:42</td>\n      <td>San Francisco Caltrain 2 (330 Townsend)</td>\n      <td>69</td>\n      <td>321</td>\n      <td>Subscriber</td>\n      <td>94703</td>\n    </tr>\n    <tr>\n      <th>2</th>\n      <td>4074</td>\n      <td>1131</td>\n      <td>8/29/2013 9:24</td>\n      <td>South Van Ness at Market</td>\n      <td>66</td>\n      <td>8/29/2013 9:43</td>\n      <td>San Francisco Caltrain 2 (330 Townsend)</td>\n      <td>69</td>\n      <td>317</td>\n      <td>Subscriber</td>\n      <td>94115</td>\n    </tr>\n    <tr>\n      <th>3</th>\n      <td>4075</td>\n      <td>1117</td>\n      <td>8/29/2013 9:24</td>\n      <td>South Van Ness at Market</td>\n      <td>66</td>\n      <td>8/29/2013 9:43</td>\n      <td>San Francisco Caltrain 2 (330 Townsend)</td>\n      <td>69</td>\n      <td>316</td>\n      <td>Subscriber</td>\n      <td>94122</td>\n    </tr>\n    <tr>\n      <th>4</th>\n      <td>4076</td>\n      <td>1118</td>\n      <td>8/29/2013 9:25</td>\n      <td>South Van Ness at Market</td>\n      <td>66</td>\n      <td>8/29/2013 9:43</td>\n      <td>San Francisco Caltrain 2 (330 Townsend)</td>\n      <td>69</td>\n      <td>322</td>\n      <td>Subscriber</td>\n      <td>94597</td>\n    </tr>\n  </tbody>\n</table>\n</div>"
     },
     "metadata": {},
     "execution_count": 36
    }
   ],
   "source": [
    "# Check trip table\n",
    "query = 'SELECT * FROM trip LIMIT 5'\n",
    "run_query(query)"
   ]
  },
  {
   "cell_type": "code",
   "execution_count": 37,
   "metadata": {},
   "outputs": [
    {
     "output_type": "execute_result",
     "data": {
      "text/plain": "        date  max_temperature_f  mean_temperature_f  min_temperature_f  \\\n0  8/29/2013                 74                  68                 61   \n1  8/30/2013                 78                  69                 60   \n2  8/31/2013                 71                  64                 57   \n3   9/1/2013                 74                  66                 58   \n4   9/2/2013                 75                  69                 62   \n\n   max_dew_point_f  mean_dew_point_f  min_dew_point_f  max_humidity  \\\n0               61                58               56            93   \n1               61                58               56            90   \n2               57                56               54            93   \n3               60                56               53            87   \n4               61                60               58            93   \n\n   mean_humidity  min_humidity  ...  mean_visibility_miles  \\\n0             75            57  ...                     10   \n1             70            50  ...                     10   \n2             75            57  ...                     10   \n3             68            49  ...                     10   \n4             77            61  ...                     10   \n\n   min_visibility_miles  max_wind_Speed_mph  mean_wind_speed_mph  \\\n0                    10                  23                   11   \n1                     7                  29                   13   \n2                    10                  26                   15   \n3                    10                  25                   13   \n4                     6                  23                   12   \n\n   max_gust_speed_mph  precipitation_inches  cloud_cover  events  \\\n0                  28                     0            4           \n1                  35                     0            2           \n2                  31                     0            4           \n3                  29                     0            4           \n4                  30                     0            6           \n\n   wind_dir_degrees  zip_code  \n0               286     94107  \n1               291     94107  \n2               284     94107  \n3               284     94107  \n4               277     94107  \n\n[5 rows x 24 columns]",
      "text/html": "<div>\n<style scoped>\n    .dataframe tbody tr th:only-of-type {\n        vertical-align: middle;\n    }\n\n    .dataframe tbody tr th {\n        vertical-align: top;\n    }\n\n    .dataframe thead th {\n        text-align: right;\n    }\n</style>\n<table border=\"1\" class=\"dataframe\">\n  <thead>\n    <tr style=\"text-align: right;\">\n      <th></th>\n      <th>date</th>\n      <th>max_temperature_f</th>\n      <th>mean_temperature_f</th>\n      <th>min_temperature_f</th>\n      <th>max_dew_point_f</th>\n      <th>mean_dew_point_f</th>\n      <th>min_dew_point_f</th>\n      <th>max_humidity</th>\n      <th>mean_humidity</th>\n      <th>min_humidity</th>\n      <th>...</th>\n      <th>mean_visibility_miles</th>\n      <th>min_visibility_miles</th>\n      <th>max_wind_Speed_mph</th>\n      <th>mean_wind_speed_mph</th>\n      <th>max_gust_speed_mph</th>\n      <th>precipitation_inches</th>\n      <th>cloud_cover</th>\n      <th>events</th>\n      <th>wind_dir_degrees</th>\n      <th>zip_code</th>\n    </tr>\n  </thead>\n  <tbody>\n    <tr>\n      <th>0</th>\n      <td>8/29/2013</td>\n      <td>74</td>\n      <td>68</td>\n      <td>61</td>\n      <td>61</td>\n      <td>58</td>\n      <td>56</td>\n      <td>93</td>\n      <td>75</td>\n      <td>57</td>\n      <td>...</td>\n      <td>10</td>\n      <td>10</td>\n      <td>23</td>\n      <td>11</td>\n      <td>28</td>\n      <td>0</td>\n      <td>4</td>\n      <td></td>\n      <td>286</td>\n      <td>94107</td>\n    </tr>\n    <tr>\n      <th>1</th>\n      <td>8/30/2013</td>\n      <td>78</td>\n      <td>69</td>\n      <td>60</td>\n      <td>61</td>\n      <td>58</td>\n      <td>56</td>\n      <td>90</td>\n      <td>70</td>\n      <td>50</td>\n      <td>...</td>\n      <td>10</td>\n      <td>7</td>\n      <td>29</td>\n      <td>13</td>\n      <td>35</td>\n      <td>0</td>\n      <td>2</td>\n      <td></td>\n      <td>291</td>\n      <td>94107</td>\n    </tr>\n    <tr>\n      <th>2</th>\n      <td>8/31/2013</td>\n      <td>71</td>\n      <td>64</td>\n      <td>57</td>\n      <td>57</td>\n      <td>56</td>\n      <td>54</td>\n      <td>93</td>\n      <td>75</td>\n      <td>57</td>\n      <td>...</td>\n      <td>10</td>\n      <td>10</td>\n      <td>26</td>\n      <td>15</td>\n      <td>31</td>\n      <td>0</td>\n      <td>4</td>\n      <td></td>\n      <td>284</td>\n      <td>94107</td>\n    </tr>\n    <tr>\n      <th>3</th>\n      <td>9/1/2013</td>\n      <td>74</td>\n      <td>66</td>\n      <td>58</td>\n      <td>60</td>\n      <td>56</td>\n      <td>53</td>\n      <td>87</td>\n      <td>68</td>\n      <td>49</td>\n      <td>...</td>\n      <td>10</td>\n      <td>10</td>\n      <td>25</td>\n      <td>13</td>\n      <td>29</td>\n      <td>0</td>\n      <td>4</td>\n      <td></td>\n      <td>284</td>\n      <td>94107</td>\n    </tr>\n    <tr>\n      <th>4</th>\n      <td>9/2/2013</td>\n      <td>75</td>\n      <td>69</td>\n      <td>62</td>\n      <td>61</td>\n      <td>60</td>\n      <td>58</td>\n      <td>93</td>\n      <td>77</td>\n      <td>61</td>\n      <td>...</td>\n      <td>10</td>\n      <td>6</td>\n      <td>23</td>\n      <td>12</td>\n      <td>30</td>\n      <td>0</td>\n      <td>6</td>\n      <td></td>\n      <td>277</td>\n      <td>94107</td>\n    </tr>\n  </tbody>\n</table>\n<p>5 rows × 24 columns</p>\n</div>"
     },
     "metadata": {},
     "execution_count": 37
    }
   ],
   "source": [
    "# Check weather table\n",
    "query = 'SELECT * FROM weather LIMIT 5'\n",
    "run_query(query)"
   ]
  },
  {
   "cell_type": "code",
   "execution_count": 56,
   "metadata": {},
   "outputs": [
    {
     "output_type": "execute_result",
     "data": {
      "text/plain": "   Total Records\n0         669959",
      "text/html": "<div>\n<style scoped>\n    .dataframe tbody tr th:only-of-type {\n        vertical-align: middle;\n    }\n\n    .dataframe tbody tr th {\n        vertical-align: top;\n    }\n\n    .dataframe thead th {\n        text-align: right;\n    }\n</style>\n<table border=\"1\" class=\"dataframe\">\n  <thead>\n    <tr style=\"text-align: right;\">\n      <th></th>\n      <th>Total Records</th>\n    </tr>\n  </thead>\n  <tbody>\n    <tr>\n      <th>0</th>\n      <td>669959</td>\n    </tr>\n  </tbody>\n</table>\n</div>"
     },
     "metadata": {},
     "execution_count": 56
    }
   ],
   "source": [
    "# Check how many records in trip table\n",
    "query = \"SELECT COUNT(*) AS \\'Total Records' FROM trip\"\n",
    "run_query(query)"
   ]
  },
  {
   "source": [
    "## Q1: What was the trip with the longest duration?"
   ],
   "cell_type": "markdown",
   "metadata": {}
  },
  {
   "cell_type": "code",
   "execution_count": 38,
   "metadata": {},
   "outputs": [
    {
     "output_type": "execute_result",
     "data": {
      "text/plain": "       id  duration       start_date        start_station_name  \\\n0  568474  17270400  12/6/2014 21:59  South Van Ness at Market   \n\n   start_station_id         end_date end_station_name  end_station_id  \\\n0                66  6/24/2015 20:18    2nd at Folsom              62   \n\n   bike_id subscription_type  zip_code  \n0      535          Customer     95531  ",
      "text/html": "<div>\n<style scoped>\n    .dataframe tbody tr th:only-of-type {\n        vertical-align: middle;\n    }\n\n    .dataframe tbody tr th {\n        vertical-align: top;\n    }\n\n    .dataframe thead th {\n        text-align: right;\n    }\n</style>\n<table border=\"1\" class=\"dataframe\">\n  <thead>\n    <tr style=\"text-align: right;\">\n      <th></th>\n      <th>id</th>\n      <th>duration</th>\n      <th>start_date</th>\n      <th>start_station_name</th>\n      <th>start_station_id</th>\n      <th>end_date</th>\n      <th>end_station_name</th>\n      <th>end_station_id</th>\n      <th>bike_id</th>\n      <th>subscription_type</th>\n      <th>zip_code</th>\n    </tr>\n  </thead>\n  <tbody>\n    <tr>\n      <th>0</th>\n      <td>568474</td>\n      <td>17270400</td>\n      <td>12/6/2014 21:59</td>\n      <td>South Van Ness at Market</td>\n      <td>66</td>\n      <td>6/24/2015 20:18</td>\n      <td>2nd at Folsom</td>\n      <td>62</td>\n      <td>535</td>\n      <td>Customer</td>\n      <td>95531</td>\n    </tr>\n  </tbody>\n</table>\n</div>"
     },
     "metadata": {},
     "execution_count": 38
    }
   ],
   "source": [
    "query = 'SELECT * FROM trip ORDER BY duration DESC LIMIT 1'\n",
    "run_query(query)"
   ]
  },
  {
   "cell_type": "code",
   "execution_count": 49,
   "metadata": {},
   "outputs": [
    {
     "output_type": "execute_result",
     "data": {
      "text/plain": "   MONTH\n0      6",
      "text/html": "<div>\n<style scoped>\n    .dataframe tbody tr th:only-of-type {\n        vertical-align: middle;\n    }\n\n    .dataframe tbody tr th {\n        vertical-align: top;\n    }\n\n    .dataframe thead th {\n        text-align: right;\n    }\n</style>\n<table border=\"1\" class=\"dataframe\">\n  <thead>\n    <tr style=\"text-align: right;\">\n      <th></th>\n      <th>MONTH</th>\n    </tr>\n  </thead>\n  <tbody>\n    <tr>\n      <th>0</th>\n      <td>6</td>\n    </tr>\n  </tbody>\n</table>\n</div>"
     },
     "metadata": {},
     "execution_count": 49
    }
   ],
   "source": [
    "query = 'SELECT max(duration)/60/60/24/30 AS MONTH FROM trip'\n",
    "run_query(query)"
   ]
  },
  {
   "source": [
    "Result shows the longest trip duration is 17270400 seconds and the `bike_id` is 535. This number is ridiculously high which is about six months. It is very likely that this could have been a glitch. Pulling up the top 10 longest rides will hopefully provide some context as to whether this datapoint is a fluke."
   ],
   "cell_type": "markdown",
   "metadata": {}
  },
  {
   "cell_type": "code",
   "execution_count": 39,
   "metadata": {},
   "outputs": [
    {
     "output_type": "execute_result",
     "data": {
      "text/plain": "       id  duration        start_date                    start_station_name  \\\n0  568474  17270400   12/6/2014 21:59              South Van Ness at Market   \n1  825850   2137000   6/28/2015 21:50                     Market at Sansome   \n2  750192   1852590     5/2/2015 6:17           San Antonio Shopping Center   \n3  841176   1133540   7/10/2015 10:35                University and Emerson   \n4  111309    722236  11/30/2013 13:29                University and Emerson   \n5  522337    720454   10/30/2014 8:29         Redwood City Caltrain Station   \n6  323594    716480   6/13/2014 16:57  Harry Bridges Plaza (Ferry Building)   \n7  361321    715339    7/13/2014 5:50              Arena Green / SAP Center   \n8  774999    688899   5/20/2015 15:27            Palo Alto Caltrain Station   \n9  635260    655939     2/8/2015 3:05                 San Jose Civic Center   \n\n   start_station_id         end_date  \\\n0                66  6/24/2015 20:18   \n1                77  7/23/2015 15:27   \n2                31  5/23/2015 16:53   \n3                35  7/23/2015 13:27   \n4                35  12/8/2013 22:06   \n5                22  11/7/2014 15:36   \n6                50  6/21/2014 23:59   \n7                14  7/21/2014 12:32   \n8                34  5/28/2015 14:49   \n9                 3  2/15/2015 17:17   \n\n                                end_station_name  end_station_id  bike_id  \\\n0                                  2nd at Folsom              62      535   \n1  Yerba Buena Center of the Arts (3rd @ Howard)              68      466   \n2               Castro Street and El Camino Real              32      680   \n3                         University and Emerson              35      262   \n4                         University and Emerson              35      247   \n5                       Stanford in Redwood City              25      692   \n6              Civic Center BART (7th at Market)              72      633   \n7                               Adobe on Almaden               5      251   \n8                California Ave Caltrain Station              36      230   \n9                         SJSU 4th at San Carlos              12      132   \n\n  subscription_type zip_code  \n0          Customer    95531  \n1          Customer    97213  \n2        Subscriber    94024  \n3          Customer    94306  \n4          Customer    94301  \n5          Customer    94010  \n6        Subscriber    94131  \n7          Customer      nil  \n8          Customer      nil  \n9          Customer    89451  ",
      "text/html": "<div>\n<style scoped>\n    .dataframe tbody tr th:only-of-type {\n        vertical-align: middle;\n    }\n\n    .dataframe tbody tr th {\n        vertical-align: top;\n    }\n\n    .dataframe thead th {\n        text-align: right;\n    }\n</style>\n<table border=\"1\" class=\"dataframe\">\n  <thead>\n    <tr style=\"text-align: right;\">\n      <th></th>\n      <th>id</th>\n      <th>duration</th>\n      <th>start_date</th>\n      <th>start_station_name</th>\n      <th>start_station_id</th>\n      <th>end_date</th>\n      <th>end_station_name</th>\n      <th>end_station_id</th>\n      <th>bike_id</th>\n      <th>subscription_type</th>\n      <th>zip_code</th>\n    </tr>\n  </thead>\n  <tbody>\n    <tr>\n      <th>0</th>\n      <td>568474</td>\n      <td>17270400</td>\n      <td>12/6/2014 21:59</td>\n      <td>South Van Ness at Market</td>\n      <td>66</td>\n      <td>6/24/2015 20:18</td>\n      <td>2nd at Folsom</td>\n      <td>62</td>\n      <td>535</td>\n      <td>Customer</td>\n      <td>95531</td>\n    </tr>\n    <tr>\n      <th>1</th>\n      <td>825850</td>\n      <td>2137000</td>\n      <td>6/28/2015 21:50</td>\n      <td>Market at Sansome</td>\n      <td>77</td>\n      <td>7/23/2015 15:27</td>\n      <td>Yerba Buena Center of the Arts (3rd @ Howard)</td>\n      <td>68</td>\n      <td>466</td>\n      <td>Customer</td>\n      <td>97213</td>\n    </tr>\n    <tr>\n      <th>2</th>\n      <td>750192</td>\n      <td>1852590</td>\n      <td>5/2/2015 6:17</td>\n      <td>San Antonio Shopping Center</td>\n      <td>31</td>\n      <td>5/23/2015 16:53</td>\n      <td>Castro Street and El Camino Real</td>\n      <td>32</td>\n      <td>680</td>\n      <td>Subscriber</td>\n      <td>94024</td>\n    </tr>\n    <tr>\n      <th>3</th>\n      <td>841176</td>\n      <td>1133540</td>\n      <td>7/10/2015 10:35</td>\n      <td>University and Emerson</td>\n      <td>35</td>\n      <td>7/23/2015 13:27</td>\n      <td>University and Emerson</td>\n      <td>35</td>\n      <td>262</td>\n      <td>Customer</td>\n      <td>94306</td>\n    </tr>\n    <tr>\n      <th>4</th>\n      <td>111309</td>\n      <td>722236</td>\n      <td>11/30/2013 13:29</td>\n      <td>University and Emerson</td>\n      <td>35</td>\n      <td>12/8/2013 22:06</td>\n      <td>University and Emerson</td>\n      <td>35</td>\n      <td>247</td>\n      <td>Customer</td>\n      <td>94301</td>\n    </tr>\n    <tr>\n      <th>5</th>\n      <td>522337</td>\n      <td>720454</td>\n      <td>10/30/2014 8:29</td>\n      <td>Redwood City Caltrain Station</td>\n      <td>22</td>\n      <td>11/7/2014 15:36</td>\n      <td>Stanford in Redwood City</td>\n      <td>25</td>\n      <td>692</td>\n      <td>Customer</td>\n      <td>94010</td>\n    </tr>\n    <tr>\n      <th>6</th>\n      <td>323594</td>\n      <td>716480</td>\n      <td>6/13/2014 16:57</td>\n      <td>Harry Bridges Plaza (Ferry Building)</td>\n      <td>50</td>\n      <td>6/21/2014 23:59</td>\n      <td>Civic Center BART (7th at Market)</td>\n      <td>72</td>\n      <td>633</td>\n      <td>Subscriber</td>\n      <td>94131</td>\n    </tr>\n    <tr>\n      <th>7</th>\n      <td>361321</td>\n      <td>715339</td>\n      <td>7/13/2014 5:50</td>\n      <td>Arena Green / SAP Center</td>\n      <td>14</td>\n      <td>7/21/2014 12:32</td>\n      <td>Adobe on Almaden</td>\n      <td>5</td>\n      <td>251</td>\n      <td>Customer</td>\n      <td>nil</td>\n    </tr>\n    <tr>\n      <th>8</th>\n      <td>774999</td>\n      <td>688899</td>\n      <td>5/20/2015 15:27</td>\n      <td>Palo Alto Caltrain Station</td>\n      <td>34</td>\n      <td>5/28/2015 14:49</td>\n      <td>California Ave Caltrain Station</td>\n      <td>36</td>\n      <td>230</td>\n      <td>Customer</td>\n      <td>nil</td>\n    </tr>\n    <tr>\n      <th>9</th>\n      <td>635260</td>\n      <td>655939</td>\n      <td>2/8/2015 3:05</td>\n      <td>San Jose Civic Center</td>\n      <td>3</td>\n      <td>2/15/2015 17:17</td>\n      <td>SJSU 4th at San Carlos</td>\n      <td>12</td>\n      <td>132</td>\n      <td>Customer</td>\n      <td>89451</td>\n    </tr>\n  </tbody>\n</table>\n</div>"
     },
     "metadata": {},
     "execution_count": 39
    }
   ],
   "source": [
    "query = 'SELECT * FROM trip ORDER BY duration DESC LIMIT 10'\n",
    "run_query(query)"
   ]
  },
  {
   "source": [
    "Other bikes have also been occupied for relatively long duration but not as high as bike 535. Lets see if how common it is for a ride to go over 24 hours."
   ],
   "cell_type": "markdown",
   "metadata": {}
  },
  {
   "cell_type": "code",
   "execution_count": 73,
   "metadata": {},
   "outputs": [
    {
     "output_type": "execute_result",
     "data": {
      "text/plain": "   Long Trip\n0        296",
      "text/html": "<div>\n<style scoped>\n    .dataframe tbody tr th:only-of-type {\n        vertical-align: middle;\n    }\n\n    .dataframe tbody tr th {\n        vertical-align: top;\n    }\n\n    .dataframe thead th {\n        text-align: right;\n    }\n</style>\n<table border=\"1\" class=\"dataframe\">\n  <thead>\n    <tr style=\"text-align: right;\">\n      <th></th>\n      <th>Long Trip</th>\n    </tr>\n  </thead>\n  <tbody>\n    <tr>\n      <th>0</th>\n      <td>296</td>\n    </tr>\n  </tbody>\n</table>\n</div>"
     },
     "metadata": {},
     "execution_count": 73
    }
   ],
   "source": [
    "query = 'SELECT COUNT(*) AS \\\"Long Trip\" FROM trip WHERE duration >= 60*60*24'\n",
    "run_query(query)"
   ]
  },
  {
   "source": [
    "It reveals that out of bikes there are only 296 bikes have ride over 24 hours."
   ],
   "cell_type": "markdown",
   "metadata": {}
  },
  {
   "source": [
    "## Q2: Do unregistered users take longer or shorter trips?"
   ],
   "cell_type": "markdown",
   "metadata": {}
  },
  {
   "source": [
    "From the top 10 longest duration result we can see that two of the 10 longest trips were made by unsubscribed customers. Let's see if unregistered customers are the main culprits."
   ],
   "cell_type": "markdown",
   "metadata": {}
  },
  {
   "cell_type": "code",
   "execution_count": 76,
   "metadata": {},
   "outputs": [
    {
     "output_type": "execute_result",
     "data": {
      "text/plain": "  subscription_type   COUNT\n0          Customer  103213\n1        Subscriber  566746",
      "text/html": "<div>\n<style scoped>\n    .dataframe tbody tr th:only-of-type {\n        vertical-align: middle;\n    }\n\n    .dataframe tbody tr th {\n        vertical-align: top;\n    }\n\n    .dataframe thead th {\n        text-align: right;\n    }\n</style>\n<table border=\"1\" class=\"dataframe\">\n  <thead>\n    <tr style=\"text-align: right;\">\n      <th></th>\n      <th>subscription_type</th>\n      <th>COUNT</th>\n    </tr>\n  </thead>\n  <tbody>\n    <tr>\n      <th>0</th>\n      <td>Customer</td>\n      <td>103213</td>\n    </tr>\n    <tr>\n      <th>1</th>\n      <td>Subscriber</td>\n      <td>566746</td>\n    </tr>\n  </tbody>\n</table>\n</div>"
     },
     "metadata": {},
     "execution_count": 76
    }
   ],
   "source": [
    "query = 'SELECT subscription_type, COUNT(*) AS COUNT FROM trip GROUP BY subscription_type'\n",
    "run_query(query)"
   ]
  },
  {
   "source": [
    "It appears that about 1/5 of the customers are non-subscribers. We can also plot the outcomes to make it easier to visualize."
   ],
   "cell_type": "markdown",
   "metadata": {}
  },
  {
   "cell_type": "code",
   "execution_count": 82,
   "metadata": {},
   "outputs": [
    {
     "output_type": "display_data",
     "data": {
      "text/plain": "<Figure size 432x288 with 1 Axes>",
      "image/svg+xml": "<?xml version=\"1.0\" encoding=\"utf-8\" standalone=\"no\"?>\n<!DOCTYPE svg PUBLIC \"-//W3C//DTD SVG 1.1//EN\"\n  \"http://www.w3.org/Graphics/SVG/1.1/DTD/svg11.dtd\">\n<!-- Created with matplotlib (https://matplotlib.org/) -->\n<svg height=\"246.958125pt\" version=\"1.1\" viewBox=\"0 0 349.2 246.958125\" width=\"349.2pt\" xmlns=\"http://www.w3.org/2000/svg\" xmlns:xlink=\"http://www.w3.org/1999/xlink\">\n <defs>\n  <style type=\"text/css\">\n*{stroke-linecap:butt;stroke-linejoin:round;}\n  </style>\n </defs>\n <g id=\"figure_1\">\n  <g id=\"patch_1\">\n   <path d=\"M 0 246.958125 \nL 349.2 246.958125 \nL 349.2 0 \nL 0 0 \nz\n\" style=\"fill:none;\"/>\n  </g>\n  <g id=\"axes_1\">\n   <g id=\"patch_2\">\n    <path d=\"M 92.711357 67.825742 \nC 82.457066 80.04633 75.326602 94.579122 71.936476 110.167589 \nC 68.54635 125.756056 68.997167 141.937598 73.249948 157.313135 \nL 168.094493 131.079703 \nL 92.711357 67.825742 \nz\n\" style=\"fill:#42201a;opacity:0.5;stroke:#42201a;stroke-linejoin:miter;\"/>\n   </g>\n   <g id=\"patch_3\">\n    <path d=\"M 82.865749 159.404346 \nC 85.77733 169.930897 90.421174 179.899661 96.60653 188.901158 \nC 102.791887 197.902656 110.432889 205.811929 119.215677 212.304096 \nC 127.998465 218.796262 137.801115 223.781198 148.220972 227.054142 \nC 158.64083 230.327086 169.533246 231.842603 180.450804 231.53844 \nC 191.368362 231.234278 202.159504 229.11466 212.380973 225.266651 \nC 222.602441 221.418641 232.112341 215.89566 240.520044 208.924567 \nC 248.927746 201.953475 256.116536 193.631046 261.791125 184.299131 \nC 267.465714 174.967216 271.547327 164.755363 273.86831 154.083033 \nC 276.189292 143.410702 276.717422 132.426049 275.431007 121.580279 \nC 274.144593 110.734509 271.061491 100.178184 266.308344 90.344914 \nC 261.555196 80.511645 255.197987 71.537939 247.497844 63.792398 \nC 239.797702 56.046858 230.86152 49.637008 221.056361 44.82614 \nC 211.251202 40.015272 200.713182 36.87017 189.875162 35.520023 \nC 179.037141 34.169875 168.049573 34.633425 157.363784 36.891632 \nC 146.677994 39.149839 136.442324 43.171354 127.077214 48.790989 \nC 117.712104 54.410624 109.34756 61.550367 102.327165 69.916946 \nL 177.710294 133.170914 \nL 82.865749 159.404346 \nz\n\" style=\"fill:#4b4535;opacity:0.5;stroke:#4b4535;stroke-linejoin:miter;\"/>\n   </g>\n   <g id=\"patch_4\">\n    <path d=\"M 94.679471 65.857628 \nC 84.42518 78.078216 77.294716 92.611008 73.90459 108.199475 \nC 70.514464 123.787942 70.965281 139.969484 75.218062 155.345021 \nL 170.062606 129.111589 \nL 94.679471 65.857628 \nz\n\" style=\"fill:#db6c57;\"/>\n   </g>\n   <g id=\"patch_5\">\n    <path d=\"M 84.833863 157.436232 \nC 87.745444 167.962784 92.389288 177.931547 98.574644 186.933044 \nC 104.76 195.934542 112.401003 203.843815 121.183791 210.335982 \nC 129.966579 216.828149 139.769229 221.813084 150.189086 225.086028 \nC 160.608944 228.358972 171.50136 229.874489 182.418918 229.570326 \nC 193.336476 229.266164 204.127618 227.146546 214.349087 223.298537 \nC 224.570555 219.450527 234.080455 213.927546 242.488158 206.956453 \nC 250.89586 199.985361 258.08465 191.662932 263.759239 182.331017 \nC 269.433828 172.999102 273.515441 162.787249 275.836423 152.114919 \nC 278.157406 141.442588 278.685536 130.457935 277.399121 119.612165 \nC 276.112707 108.766395 273.029605 98.21007 268.276458 88.376801 \nC 263.52331 78.543531 257.166101 69.569825 249.465958 61.824284 \nC 241.765816 54.078744 232.829634 47.668894 223.024475 42.858026 \nC 213.219316 38.047158 202.681296 34.902056 191.843276 33.551909 \nC 181.005255 32.201761 170.017687 32.665311 159.331898 34.923518 \nC 148.646108 37.181725 138.410438 41.20324 129.045328 46.822875 \nC 119.680217 52.44251 111.315674 59.582253 104.295279 67.948832 \nL 179.678408 131.2028 \nL 84.833863 157.436232 \nz\n\" style=\"fill:#f9e7b1;\"/>\n   </g>\n   <g id=\"matplotlib.axis_1\"/>\n   <g id=\"matplotlib.axis_2\"/>\n   <g id=\"text_1\">\n    <!-- Casual -->\n    <defs>\n     <path d=\"M 64.40625 67.28125 \nL 64.40625 56.890625 \nQ 59.421875 61.53125 53.78125 63.8125 \nQ 48.140625 66.109375 41.796875 66.109375 \nQ 29.296875 66.109375 22.65625 58.46875 \nQ 16.015625 50.828125 16.015625 36.375 \nQ 16.015625 21.96875 22.65625 14.328125 \nQ 29.296875 6.6875 41.796875 6.6875 \nQ 48.140625 6.6875 53.78125 8.984375 \nQ 59.421875 11.28125 64.40625 15.921875 \nL 64.40625 5.609375 \nQ 59.234375 2.09375 53.4375 0.328125 \nQ 47.65625 -1.421875 41.21875 -1.421875 \nQ 24.65625 -1.421875 15.125 8.703125 \nQ 5.609375 18.84375 5.609375 36.375 \nQ 5.609375 53.953125 15.125 64.078125 \nQ 24.65625 74.21875 41.21875 74.21875 \nQ 47.75 74.21875 53.53125 72.484375 \nQ 59.328125 70.75 64.40625 67.28125 \nz\n\" id=\"DejaVuSans-67\"/>\n     <path d=\"M 34.28125 27.484375 \nQ 23.390625 27.484375 19.1875 25 \nQ 14.984375 22.515625 14.984375 16.5 \nQ 14.984375 11.71875 18.140625 8.90625 \nQ 21.296875 6.109375 26.703125 6.109375 \nQ 34.1875 6.109375 38.703125 11.40625 \nQ 43.21875 16.703125 43.21875 25.484375 \nL 43.21875 27.484375 \nz\nM 52.203125 31.203125 \nL 52.203125 0 \nL 43.21875 0 \nL 43.21875 8.296875 \nQ 40.140625 3.328125 35.546875 0.953125 \nQ 30.953125 -1.421875 24.3125 -1.421875 \nQ 15.921875 -1.421875 10.953125 3.296875 \nQ 6 8.015625 6 15.921875 \nQ 6 25.140625 12.171875 29.828125 \nQ 18.359375 34.515625 30.609375 34.515625 \nL 43.21875 34.515625 \nL 43.21875 35.40625 \nQ 43.21875 41.609375 39.140625 45 \nQ 35.0625 48.390625 27.6875 48.390625 \nQ 23 48.390625 18.546875 47.265625 \nQ 14.109375 46.140625 10.015625 43.890625 \nL 10.015625 52.203125 \nQ 14.9375 54.109375 19.578125 55.046875 \nQ 24.21875 56 28.609375 56 \nQ 40.484375 56 46.34375 49.84375 \nQ 52.203125 43.703125 52.203125 31.203125 \nz\n\" id=\"DejaVuSans-97\"/>\n     <path d=\"M 44.28125 53.078125 \nL 44.28125 44.578125 \nQ 40.484375 46.53125 36.375 47.5 \nQ 32.28125 48.484375 27.875 48.484375 \nQ 21.1875 48.484375 17.84375 46.4375 \nQ 14.5 44.390625 14.5 40.28125 \nQ 14.5 37.15625 16.890625 35.375 \nQ 19.28125 33.59375 26.515625 31.984375 \nL 29.59375 31.296875 \nQ 39.15625 29.25 43.1875 25.515625 \nQ 47.21875 21.78125 47.21875 15.09375 \nQ 47.21875 7.46875 41.1875 3.015625 \nQ 35.15625 -1.421875 24.609375 -1.421875 \nQ 20.21875 -1.421875 15.453125 -0.5625 \nQ 10.6875 0.296875 5.421875 2 \nL 5.421875 11.28125 \nQ 10.40625 8.6875 15.234375 7.390625 \nQ 20.0625 6.109375 24.8125 6.109375 \nQ 31.15625 6.109375 34.5625 8.28125 \nQ 37.984375 10.453125 37.984375 14.40625 \nQ 37.984375 18.0625 35.515625 20.015625 \nQ 33.0625 21.96875 24.703125 23.78125 \nL 21.578125 24.515625 \nQ 13.234375 26.265625 9.515625 29.90625 \nQ 5.8125 33.546875 5.8125 39.890625 \nQ 5.8125 47.609375 11.28125 51.796875 \nQ 16.75 56 26.8125 56 \nQ 31.78125 56 36.171875 55.265625 \nQ 40.578125 54.546875 44.28125 53.078125 \nz\n\" id=\"DejaVuSans-115\"/>\n     <path d=\"M 8.5 21.578125 \nL 8.5 54.6875 \nL 17.484375 54.6875 \nL 17.484375 21.921875 \nQ 17.484375 14.15625 20.5 10.265625 \nQ 23.53125 6.390625 29.59375 6.390625 \nQ 36.859375 6.390625 41.078125 11.03125 \nQ 45.3125 15.671875 45.3125 23.6875 \nL 45.3125 54.6875 \nL 54.296875 54.6875 \nL 54.296875 0 \nL 45.3125 0 \nL 45.3125 8.40625 \nQ 42.046875 3.421875 37.71875 1 \nQ 33.40625 -1.421875 27.6875 -1.421875 \nQ 18.265625 -1.421875 13.375 4.4375 \nQ 8.5 10.296875 8.5 21.578125 \nz\nM 31.109375 56 \nz\n\" id=\"DejaVuSans-117\"/>\n     <path d=\"M 9.421875 75.984375 \nL 18.40625 75.984375 \nL 18.40625 0 \nL 9.421875 0 \nz\n\" id=\"DejaVuSans-108\"/>\n    </defs>\n    <g transform=\"translate(30.724726 108.867638)scale(0.1 -0.1)\">\n     <use xlink:href=\"#DejaVuSans-67\"/>\n     <use x=\"69.824219\" xlink:href=\"#DejaVuSans-97\"/>\n     <use x=\"131.103516\" xlink:href=\"#DejaVuSans-115\"/>\n     <use x=\"183.203125\" xlink:href=\"#DejaVuSans-117\"/>\n     <use x=\"246.582031\" xlink:href=\"#DejaVuSans-97\"/>\n     <use x=\"307.861328\" xlink:href=\"#DejaVuSans-108\"/>\n    </g>\n   </g>\n   <g id=\"text_2\">\n    <!-- 15.4% -->\n    <defs>\n     <path d=\"M 12.40625 8.296875 \nL 28.515625 8.296875 \nL 28.515625 63.921875 \nL 10.984375 60.40625 \nL 10.984375 69.390625 \nL 28.421875 72.90625 \nL 38.28125 72.90625 \nL 38.28125 8.296875 \nL 54.390625 8.296875 \nL 54.390625 0 \nL 12.40625 0 \nz\n\" id=\"DejaVuSans-49\"/>\n     <path d=\"M 10.796875 72.90625 \nL 49.515625 72.90625 \nL 49.515625 64.59375 \nL 19.828125 64.59375 \nL 19.828125 46.734375 \nQ 21.96875 47.46875 24.109375 47.828125 \nQ 26.265625 48.1875 28.421875 48.1875 \nQ 40.625 48.1875 47.75 41.5 \nQ 54.890625 34.8125 54.890625 23.390625 \nQ 54.890625 11.625 47.5625 5.09375 \nQ 40.234375 -1.421875 26.90625 -1.421875 \nQ 22.3125 -1.421875 17.546875 -0.640625 \nQ 12.796875 0.140625 7.71875 1.703125 \nL 7.71875 11.625 \nQ 12.109375 9.234375 16.796875 8.0625 \nQ 21.484375 6.890625 26.703125 6.890625 \nQ 35.15625 6.890625 40.078125 11.328125 \nQ 45.015625 15.765625 45.015625 23.390625 \nQ 45.015625 31 40.078125 35.4375 \nQ 35.15625 39.890625 26.703125 39.890625 \nQ 22.75 39.890625 18.8125 39.015625 \nQ 14.890625 38.140625 10.796875 36.28125 \nz\n\" id=\"DejaVuSans-53\"/>\n     <path d=\"M 10.6875 12.40625 \nL 21 12.40625 \nL 21 0 \nL 10.6875 0 \nz\n\" id=\"DejaVuSans-46\"/>\n     <path d=\"M 37.796875 64.3125 \nL 12.890625 25.390625 \nL 37.796875 25.390625 \nz\nM 35.203125 72.90625 \nL 47.609375 72.90625 \nL 47.609375 25.390625 \nL 58.015625 25.390625 \nL 58.015625 17.1875 \nL 47.609375 17.1875 \nL 47.609375 0 \nL 37.796875 0 \nL 37.796875 17.1875 \nL 4.890625 17.1875 \nL 4.890625 26.703125 \nz\n\" id=\"DejaVuSans-52\"/>\n     <path d=\"M 72.703125 32.078125 \nQ 68.453125 32.078125 66.03125 28.46875 \nQ 63.625 24.859375 63.625 18.40625 \nQ 63.625 12.0625 66.03125 8.421875 \nQ 68.453125 4.78125 72.703125 4.78125 \nQ 76.859375 4.78125 79.265625 8.421875 \nQ 81.6875 12.0625 81.6875 18.40625 \nQ 81.6875 24.8125 79.265625 28.4375 \nQ 76.859375 32.078125 72.703125 32.078125 \nz\nM 72.703125 38.28125 \nQ 80.421875 38.28125 84.953125 32.90625 \nQ 89.5 27.546875 89.5 18.40625 \nQ 89.5 9.28125 84.9375 3.921875 \nQ 80.375 -1.421875 72.703125 -1.421875 \nQ 64.890625 -1.421875 60.34375 3.921875 \nQ 55.8125 9.28125 55.8125 18.40625 \nQ 55.8125 27.59375 60.375 32.9375 \nQ 64.9375 38.28125 72.703125 38.28125 \nz\nM 22.3125 68.015625 \nQ 18.109375 68.015625 15.6875 64.375 \nQ 13.28125 60.75 13.28125 54.390625 \nQ 13.28125 47.953125 15.671875 44.328125 \nQ 18.0625 40.71875 22.3125 40.71875 \nQ 26.5625 40.71875 28.96875 44.328125 \nQ 31.390625 47.953125 31.390625 54.390625 \nQ 31.390625 60.6875 28.953125 64.34375 \nQ 26.515625 68.015625 22.3125 68.015625 \nz\nM 66.40625 74.21875 \nL 74.21875 74.21875 \nL 28.609375 -1.421875 \nL 20.796875 -1.421875 \nz\nM 22.3125 74.21875 \nQ 30.03125 74.21875 34.609375 68.875 \nQ 39.203125 63.53125 39.203125 54.390625 \nQ 39.203125 45.171875 34.640625 39.84375 \nQ 30.078125 34.515625 22.3125 34.515625 \nQ 14.546875 34.515625 10.03125 39.859375 \nQ 5.515625 45.21875 5.515625 54.390625 \nQ 5.515625 63.484375 10.046875 68.84375 \nQ 14.59375 74.21875 22.3125 74.21875 \nz\n\" id=\"DejaVuSans-37\"/>\n    </defs>\n    <g transform=\"translate(96.484203 119.323695)scale(0.1 -0.1)\">\n     <use xlink:href=\"#DejaVuSans-49\"/>\n     <use x=\"63.623047\" xlink:href=\"#DejaVuSans-53\"/>\n     <use x=\"127.246094\" xlink:href=\"#DejaVuSans-46\"/>\n     <use x=\"159.033203\" xlink:href=\"#DejaVuSans-52\"/>\n     <use x=\"222.65625\" xlink:href=\"#DejaVuSans-37\"/>\n    </g>\n   </g>\n   <g id=\"text_3\">\n    <!-- Subscriber -->\n    <defs>\n     <path d=\"M 53.515625 70.515625 \nL 53.515625 60.890625 \nQ 47.90625 63.578125 42.921875 64.890625 \nQ 37.9375 66.21875 33.296875 66.21875 \nQ 25.25 66.21875 20.875 63.09375 \nQ 16.5 59.96875 16.5 54.203125 \nQ 16.5 49.359375 19.40625 46.890625 \nQ 22.3125 44.4375 30.421875 42.921875 \nL 36.375 41.703125 \nQ 47.40625 39.59375 52.65625 34.296875 \nQ 57.90625 29 57.90625 20.125 \nQ 57.90625 9.515625 50.796875 4.046875 \nQ 43.703125 -1.421875 29.984375 -1.421875 \nQ 24.8125 -1.421875 18.96875 -0.25 \nQ 13.140625 0.921875 6.890625 3.21875 \nL 6.890625 13.375 \nQ 12.890625 10.015625 18.65625 8.296875 \nQ 24.421875 6.59375 29.984375 6.59375 \nQ 38.421875 6.59375 43.015625 9.90625 \nQ 47.609375 13.234375 47.609375 19.390625 \nQ 47.609375 24.75 44.3125 27.78125 \nQ 41.015625 30.8125 33.5 32.328125 \nL 27.484375 33.5 \nQ 16.453125 35.6875 11.515625 40.375 \nQ 6.59375 45.0625 6.59375 53.421875 \nQ 6.59375 63.09375 13.40625 68.65625 \nQ 20.21875 74.21875 32.171875 74.21875 \nQ 37.3125 74.21875 42.625 73.28125 \nQ 47.953125 72.359375 53.515625 70.515625 \nz\n\" id=\"DejaVuSans-83\"/>\n     <path d=\"M 48.6875 27.296875 \nQ 48.6875 37.203125 44.609375 42.84375 \nQ 40.53125 48.484375 33.40625 48.484375 \nQ 26.265625 48.484375 22.1875 42.84375 \nQ 18.109375 37.203125 18.109375 27.296875 \nQ 18.109375 17.390625 22.1875 11.75 \nQ 26.265625 6.109375 33.40625 6.109375 \nQ 40.53125 6.109375 44.609375 11.75 \nQ 48.6875 17.390625 48.6875 27.296875 \nz\nM 18.109375 46.390625 \nQ 20.953125 51.265625 25.265625 53.625 \nQ 29.59375 56 35.59375 56 \nQ 45.5625 56 51.78125 48.09375 \nQ 58.015625 40.1875 58.015625 27.296875 \nQ 58.015625 14.40625 51.78125 6.484375 \nQ 45.5625 -1.421875 35.59375 -1.421875 \nQ 29.59375 -1.421875 25.265625 0.953125 \nQ 20.953125 3.328125 18.109375 8.203125 \nL 18.109375 0 \nL 9.078125 0 \nL 9.078125 75.984375 \nL 18.109375 75.984375 \nz\n\" id=\"DejaVuSans-98\"/>\n     <path d=\"M 48.78125 52.59375 \nL 48.78125 44.1875 \nQ 44.96875 46.296875 41.140625 47.34375 \nQ 37.3125 48.390625 33.40625 48.390625 \nQ 24.65625 48.390625 19.8125 42.84375 \nQ 14.984375 37.3125 14.984375 27.296875 \nQ 14.984375 17.28125 19.8125 11.734375 \nQ 24.65625 6.203125 33.40625 6.203125 \nQ 37.3125 6.203125 41.140625 7.25 \nQ 44.96875 8.296875 48.78125 10.40625 \nL 48.78125 2.09375 \nQ 45.015625 0.34375 40.984375 -0.53125 \nQ 36.96875 -1.421875 32.421875 -1.421875 \nQ 20.0625 -1.421875 12.78125 6.34375 \nQ 5.515625 14.109375 5.515625 27.296875 \nQ 5.515625 40.671875 12.859375 48.328125 \nQ 20.21875 56 33.015625 56 \nQ 37.15625 56 41.109375 55.140625 \nQ 45.0625 54.296875 48.78125 52.59375 \nz\n\" id=\"DejaVuSans-99\"/>\n     <path d=\"M 41.109375 46.296875 \nQ 39.59375 47.171875 37.8125 47.578125 \nQ 36.03125 48 33.890625 48 \nQ 26.265625 48 22.1875 43.046875 \nQ 18.109375 38.09375 18.109375 28.8125 \nL 18.109375 0 \nL 9.078125 0 \nL 9.078125 54.6875 \nL 18.109375 54.6875 \nL 18.109375 46.1875 \nQ 20.953125 51.171875 25.484375 53.578125 \nQ 30.03125 56 36.53125 56 \nQ 37.453125 56 38.578125 55.875 \nQ 39.703125 55.765625 41.0625 55.515625 \nz\n\" id=\"DejaVuSans-114\"/>\n     <path d=\"M 9.421875 54.6875 \nL 18.40625 54.6875 \nL 18.40625 0 \nL 9.421875 0 \nz\nM 9.421875 75.984375 \nL 18.40625 75.984375 \nL 18.40625 64.59375 \nL 9.421875 64.59375 \nz\n\" id=\"DejaVuSans-105\"/>\n     <path d=\"M 56.203125 29.59375 \nL 56.203125 25.203125 \nL 14.890625 25.203125 \nQ 15.484375 15.921875 20.484375 11.0625 \nQ 25.484375 6.203125 34.421875 6.203125 \nQ 39.59375 6.203125 44.453125 7.46875 \nQ 49.3125 8.734375 54.109375 11.28125 \nL 54.109375 2.78125 \nQ 49.265625 0.734375 44.1875 -0.34375 \nQ 39.109375 -1.421875 33.890625 -1.421875 \nQ 20.796875 -1.421875 13.15625 6.1875 \nQ 5.515625 13.8125 5.515625 26.8125 \nQ 5.515625 40.234375 12.765625 48.109375 \nQ 20.015625 56 32.328125 56 \nQ 43.359375 56 49.78125 48.890625 \nQ 56.203125 41.796875 56.203125 29.59375 \nz\nM 47.21875 32.234375 \nQ 47.125 39.59375 43.09375 43.984375 \nQ 39.0625 48.390625 32.421875 48.390625 \nQ 24.90625 48.390625 20.390625 44.140625 \nQ 15.875 39.890625 15.1875 32.171875 \nz\n\" id=\"DejaVuSans-101\"/>\n    </defs>\n    <g transform=\"translate(285.452225 156.965505)scale(0.1 -0.1)\">\n     <use xlink:href=\"#DejaVuSans-83\"/>\n     <use x=\"63.476562\" xlink:href=\"#DejaVuSans-117\"/>\n     <use x=\"126.855469\" xlink:href=\"#DejaVuSans-98\"/>\n     <use x=\"190.332031\" xlink:href=\"#DejaVuSans-115\"/>\n     <use x=\"242.431641\" xlink:href=\"#DejaVuSans-99\"/>\n     <use x=\"297.412109\" xlink:href=\"#DejaVuSans-114\"/>\n     <use x=\"338.525391\" xlink:href=\"#DejaVuSans-105\"/>\n     <use x=\"366.308594\" xlink:href=\"#DejaVuSans-98\"/>\n     <use x=\"429.785156\" xlink:href=\"#DejaVuSans-101\"/>\n     <use x=\"491.308594\" xlink:href=\"#DejaVuSans-114\"/>\n    </g>\n   </g>\n   <g id=\"text_4\">\n    <!-- 84.6% -->\n    <defs>\n     <path d=\"M 31.78125 34.625 \nQ 24.75 34.625 20.71875 30.859375 \nQ 16.703125 27.09375 16.703125 20.515625 \nQ 16.703125 13.921875 20.71875 10.15625 \nQ 24.75 6.390625 31.78125 6.390625 \nQ 38.8125 6.390625 42.859375 10.171875 \nQ 46.921875 13.96875 46.921875 20.515625 \nQ 46.921875 27.09375 42.890625 30.859375 \nQ 38.875 34.625 31.78125 34.625 \nz\nM 21.921875 38.8125 \nQ 15.578125 40.375 12.03125 44.71875 \nQ 8.5 49.078125 8.5 55.328125 \nQ 8.5 64.0625 14.71875 69.140625 \nQ 20.953125 74.21875 31.78125 74.21875 \nQ 42.671875 74.21875 48.875 69.140625 \nQ 55.078125 64.0625 55.078125 55.328125 \nQ 55.078125 49.078125 51.53125 44.71875 \nQ 48 40.375 41.703125 38.8125 \nQ 48.828125 37.15625 52.796875 32.3125 \nQ 56.78125 27.484375 56.78125 20.515625 \nQ 56.78125 9.90625 50.3125 4.234375 \nQ 43.84375 -1.421875 31.78125 -1.421875 \nQ 19.734375 -1.421875 13.25 4.234375 \nQ 6.78125 9.90625 6.78125 20.515625 \nQ 6.78125 27.484375 10.78125 32.3125 \nQ 14.796875 37.15625 21.921875 38.8125 \nz\nM 18.3125 54.390625 \nQ 18.3125 48.734375 21.84375 45.5625 \nQ 25.390625 42.390625 31.78125 42.390625 \nQ 38.140625 42.390625 41.71875 45.5625 \nQ 45.3125 48.734375 45.3125 54.390625 \nQ 45.3125 60.0625 41.71875 63.234375 \nQ 38.140625 66.40625 31.78125 66.40625 \nQ 25.390625 66.40625 21.84375 63.234375 \nQ 18.3125 60.0625 18.3125 54.390625 \nz\n\" id=\"DejaVuSans-56\"/>\n     <path d=\"M 33.015625 40.375 \nQ 26.375 40.375 22.484375 35.828125 \nQ 18.609375 31.296875 18.609375 23.390625 \nQ 18.609375 15.53125 22.484375 10.953125 \nQ 26.375 6.390625 33.015625 6.390625 \nQ 39.65625 6.390625 43.53125 10.953125 \nQ 47.40625 15.53125 47.40625 23.390625 \nQ 47.40625 31.296875 43.53125 35.828125 \nQ 39.65625 40.375 33.015625 40.375 \nz\nM 52.59375 71.296875 \nL 52.59375 62.3125 \nQ 48.875 64.0625 45.09375 64.984375 \nQ 41.3125 65.921875 37.59375 65.921875 \nQ 27.828125 65.921875 22.671875 59.328125 \nQ 17.53125 52.734375 16.796875 39.40625 \nQ 19.671875 43.65625 24.015625 45.921875 \nQ 28.375 48.1875 33.59375 48.1875 \nQ 44.578125 48.1875 50.953125 41.515625 \nQ 57.328125 34.859375 57.328125 23.390625 \nQ 57.328125 12.15625 50.6875 5.359375 \nQ 44.046875 -1.421875 33.015625 -1.421875 \nQ 20.359375 -1.421875 13.671875 8.265625 \nQ 6.984375 17.96875 6.984375 36.375 \nQ 6.984375 53.65625 15.1875 63.9375 \nQ 23.390625 74.21875 37.203125 74.21875 \nQ 40.921875 74.21875 44.703125 73.484375 \nQ 48.484375 72.75 52.59375 71.296875 \nz\n\" id=\"DejaVuSans-54\"/>\n    </defs>\n    <g transform=\"translate(221.489624 146.509446)scale(0.1 -0.1)\">\n     <use xlink:href=\"#DejaVuSans-56\"/>\n     <use x=\"63.623047\" xlink:href=\"#DejaVuSans-52\"/>\n     <use x=\"127.246094\" xlink:href=\"#DejaVuSans-46\"/>\n     <use x=\"159.033203\" xlink:href=\"#DejaVuSans-54\"/>\n     <use x=\"222.65625\" xlink:href=\"#DejaVuSans-37\"/>\n    </g>\n   </g>\n   <g id=\"text_5\">\n    <!-- Subscribed vs Unsubscribed Riders -->\n    <defs>\n     <path d=\"M 45.40625 46.390625 \nL 45.40625 75.984375 \nL 54.390625 75.984375 \nL 54.390625 0 \nL 45.40625 0 \nL 45.40625 8.203125 \nQ 42.578125 3.328125 38.25 0.953125 \nQ 33.9375 -1.421875 27.875 -1.421875 \nQ 17.96875 -1.421875 11.734375 6.484375 \nQ 5.515625 14.40625 5.515625 27.296875 \nQ 5.515625 40.1875 11.734375 48.09375 \nQ 17.96875 56 27.875 56 \nQ 33.9375 56 38.25 53.625 \nQ 42.578125 51.265625 45.40625 46.390625 \nz\nM 14.796875 27.296875 \nQ 14.796875 17.390625 18.875 11.75 \nQ 22.953125 6.109375 30.078125 6.109375 \nQ 37.203125 6.109375 41.296875 11.75 \nQ 45.40625 17.390625 45.40625 27.296875 \nQ 45.40625 37.203125 41.296875 42.84375 \nQ 37.203125 48.484375 30.078125 48.484375 \nQ 22.953125 48.484375 18.875 42.84375 \nQ 14.796875 37.203125 14.796875 27.296875 \nz\n\" id=\"DejaVuSans-100\"/>\n     <path id=\"DejaVuSans-32\"/>\n     <path d=\"M 2.984375 54.6875 \nL 12.5 54.6875 \nL 29.59375 8.796875 \nL 46.6875 54.6875 \nL 56.203125 54.6875 \nL 35.6875 0 \nL 23.484375 0 \nz\n\" id=\"DejaVuSans-118\"/>\n     <path d=\"M 8.6875 72.90625 \nL 18.609375 72.90625 \nL 18.609375 28.609375 \nQ 18.609375 16.890625 22.84375 11.734375 \nQ 27.09375 6.59375 36.625 6.59375 \nQ 46.09375 6.59375 50.34375 11.734375 \nQ 54.59375 16.890625 54.59375 28.609375 \nL 54.59375 72.90625 \nL 64.5 72.90625 \nL 64.5 27.390625 \nQ 64.5 13.140625 57.4375 5.859375 \nQ 50.390625 -1.421875 36.625 -1.421875 \nQ 22.796875 -1.421875 15.734375 5.859375 \nQ 8.6875 13.140625 8.6875 27.390625 \nz\n\" id=\"DejaVuSans-85\"/>\n     <path d=\"M 54.890625 33.015625 \nL 54.890625 0 \nL 45.90625 0 \nL 45.90625 32.71875 \nQ 45.90625 40.484375 42.875 44.328125 \nQ 39.84375 48.1875 33.796875 48.1875 \nQ 26.515625 48.1875 22.3125 43.546875 \nQ 18.109375 38.921875 18.109375 30.90625 \nL 18.109375 0 \nL 9.078125 0 \nL 9.078125 54.6875 \nL 18.109375 54.6875 \nL 18.109375 46.1875 \nQ 21.34375 51.125 25.703125 53.5625 \nQ 30.078125 56 35.796875 56 \nQ 45.21875 56 50.046875 50.171875 \nQ 54.890625 44.34375 54.890625 33.015625 \nz\n\" id=\"DejaVuSans-110\"/>\n     <path d=\"M 44.390625 34.1875 \nQ 47.5625 33.109375 50.5625 29.59375 \nQ 53.5625 26.078125 56.59375 19.921875 \nL 66.609375 0 \nL 56 0 \nL 46.6875 18.703125 \nQ 43.0625 26.03125 39.671875 28.421875 \nQ 36.28125 30.8125 30.421875 30.8125 \nL 19.671875 30.8125 \nL 19.671875 0 \nL 9.8125 0 \nL 9.8125 72.90625 \nL 32.078125 72.90625 \nQ 44.578125 72.90625 50.734375 67.671875 \nQ 56.890625 62.453125 56.890625 51.90625 \nQ 56.890625 45.015625 53.6875 40.46875 \nQ 50.484375 35.9375 44.390625 34.1875 \nz\nM 19.671875 64.796875 \nL 19.671875 38.921875 \nL 32.078125 38.921875 \nQ 39.203125 38.921875 42.84375 42.21875 \nQ 46.484375 45.515625 46.484375 51.90625 \nQ 46.484375 58.296875 42.84375 61.546875 \nQ 39.203125 64.796875 32.078125 64.796875 \nz\n\" id=\"DejaVuSans-82\"/>\n    </defs>\n    <g transform=\"translate(69.185625 16.318125)scale(0.12 -0.12)\">\n     <use xlink:href=\"#DejaVuSans-83\"/>\n     <use x=\"63.476562\" xlink:href=\"#DejaVuSans-117\"/>\n     <use x=\"126.855469\" xlink:href=\"#DejaVuSans-98\"/>\n     <use x=\"190.332031\" xlink:href=\"#DejaVuSans-115\"/>\n     <use x=\"242.431641\" xlink:href=\"#DejaVuSans-99\"/>\n     <use x=\"297.412109\" xlink:href=\"#DejaVuSans-114\"/>\n     <use x=\"338.525391\" xlink:href=\"#DejaVuSans-105\"/>\n     <use x=\"366.308594\" xlink:href=\"#DejaVuSans-98\"/>\n     <use x=\"429.785156\" xlink:href=\"#DejaVuSans-101\"/>\n     <use x=\"491.308594\" xlink:href=\"#DejaVuSans-100\"/>\n     <use x=\"554.785156\" xlink:href=\"#DejaVuSans-32\"/>\n     <use x=\"586.572266\" xlink:href=\"#DejaVuSans-118\"/>\n     <use x=\"645.751953\" xlink:href=\"#DejaVuSans-115\"/>\n     <use x=\"697.851562\" xlink:href=\"#DejaVuSans-32\"/>\n     <use x=\"729.638672\" xlink:href=\"#DejaVuSans-85\"/>\n     <use x=\"802.832031\" xlink:href=\"#DejaVuSans-110\"/>\n     <use x=\"866.210938\" xlink:href=\"#DejaVuSans-115\"/>\n     <use x=\"918.310547\" xlink:href=\"#DejaVuSans-117\"/>\n     <use x=\"981.689453\" xlink:href=\"#DejaVuSans-98\"/>\n     <use x=\"1045.166016\" xlink:href=\"#DejaVuSans-115\"/>\n     <use x=\"1097.265625\" xlink:href=\"#DejaVuSans-99\"/>\n     <use x=\"1152.246094\" xlink:href=\"#DejaVuSans-114\"/>\n     <use x=\"1193.359375\" xlink:href=\"#DejaVuSans-105\"/>\n     <use x=\"1221.142578\" xlink:href=\"#DejaVuSans-98\"/>\n     <use x=\"1284.619141\" xlink:href=\"#DejaVuSans-101\"/>\n     <use x=\"1346.142578\" xlink:href=\"#DejaVuSans-100\"/>\n     <use x=\"1409.619141\" xlink:href=\"#DejaVuSans-32\"/>\n     <use x=\"1441.40625\" xlink:href=\"#DejaVuSans-82\"/>\n     <use x=\"1510.888672\" xlink:href=\"#DejaVuSans-105\"/>\n     <use x=\"1538.671875\" xlink:href=\"#DejaVuSans-100\"/>\n     <use x=\"1602.148438\" xlink:href=\"#DejaVuSans-101\"/>\n     <use x=\"1663.671875\" xlink:href=\"#DejaVuSans-114\"/>\n     <use x=\"1704.785156\" xlink:href=\"#DejaVuSans-115\"/>\n    </g>\n   </g>\n  </g>\n </g>\n</svg>\n",
      "image/png": "[encoded data removed]"
     },
     "metadata": {}
    }
   ],
   "source": [
    "df = pd.read_sql_query(query, db)\n",
    "\n",
    "labels = ['Casual', 'Subscriber']\n",
    "sizes = df['COUNT']\n",
    "colors = ['#DB6C57', '#F9E7B1']\n",
    "explode = (0.1, 0)  # explode 1st slice\n",
    "# Plot\n",
    "plt.pie(sizes, explode=explode, labels=labels, colors=colors, autopct='%1.1f%%', shadow=True, startangle=140, )\n",
    "plt.title('Subscribed vs Unsubscribed Riders')\n",
    "plt.axis('equal')\n",
    "plt.show()"
   ]
  }
 ]
}